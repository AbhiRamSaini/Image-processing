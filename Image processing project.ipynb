{
  "cells": [
    {
      "cell_type": "markdown",
      "metadata": {
        "id": "Hg4tXyBh4-km"
      },
      "source": [
        "# Working on MNIST dataset \n",
        "1. loading the mnist data using tensorflow.keras.datasets\n"
      ]
    },
    {
      "cell_type": "code",
      "execution_count": 63,
      "metadata": {
        "id": "DZcM3W7ipr1x"
      },
      "outputs": [],
      "source": [
        "from tensorflow.keras.datasets import mnist\n",
        "\n",
        "(x_train, y_train), (x_test, y_test) = mnist.load_data()"
      ]
    },
    {
      "cell_type": "markdown",
      "metadata": {
        "id": "2znQI0cI5Iow"
      },
      "source": [
        "2. calculating random image distance of each class from each class."
      ]
    },
    {
      "cell_type": "code",
      "execution_count": 64,
      "metadata": {
        "colab": {
          "base_uri": "https://localhost:8080/"
        },
        "id": "mOtlY-w0pv8v",
        "outputId": "8226241a-cd0b-48e6-b55a-d025ed24c247"
      },
      "outputs": [
        {
          "name": "stdout",
          "output_type": "stream",
          "text": [
            "L1 Distances between Random Images from Each Class (MNIST):\n",
            "[[    0. 31951. 32321. 27044. 30554. 32758. 24788. 30614. 28851. 34279.]\n",
            " [21553.     0. 22642. 18645. 16779. 21799. 17413. 15815. 17380. 18712.]\n",
            " [35519. 39822.     0. 35939. 39961. 39605. 31379. 38741. 38002. 42406.]\n",
            " [37212. 38955. 40093.     0. 41398. 35410. 30768. 33522. 31759. 40771.]\n",
            " [22438. 18293. 27367. 24650.     0. 27548. 24186. 19516. 22617. 24461.]\n",
            " [30730. 32473. 36171. 31406. 34404.     0. 30174. 32416. 28093. 36337.]\n",
            " [35372. 40699. 39533. 39632. 37254. 44578.     0. 40130. 38623. 38931.]\n",
            " [21866. 16953. 26027. 23310. 21700. 23392. 20542.     0. 19997. 20817.]\n",
            " [28749. 26396. 33422. 28657. 30887. 31043. 26401. 28643.     0. 31540.]\n",
            " [29209. 27112. 29530. 27069. 27763. 25359. 26093. 23215. 25548.     0.]]\n"
          ]
        }
      ],
      "source": [
        "import numpy as np\n",
        "\n",
        "# Choose one random image from each class\n",
        "images = []\n",
        "for cls in range(10):\n",
        "  idx = np.random.choice(np.where(y_train == cls)[0])\n",
        "  images.append(x_train[idx])\n",
        "\n",
        "# Calculate L1 distance to every other class\n",
        "distances = np.zeros((10, 10))\n",
        "for i, img1 in enumerate(images):\n",
        "  for j, img2 in enumerate(images):\n",
        "    distances[i, j] = np.sum(np.abs(img1 - img2))\n",
        "\n",
        "# Display results\n",
        "print(\"L1 Distances between Random Images from Each Class (MNIST):\")\n",
        "print(distances)"
      ]
    },
    {
      "cell_type": "markdown",
      "metadata": {
        "id": "Vvi0jti85U1q"
      },
      "source": [
        "3. Loading the cifar-10 dataset from tensorflow"
      ]
    },
    {
      "cell_type": "code",
      "execution_count": 65,
      "metadata": {
        "id": "038ReQiLp1Gy"
      },
      "outputs": [],
      "source": [
        "from tensorflow.keras.datasets import cifar10\n",
        "\n",
        "(x_train, y_train), (x_test, y_test) = cifar10.load_data()"
      ]
    },
    {
      "cell_type": "markdown",
      "metadata": {
        "id": "XPOYjZH55ext"
      },
      "source": [
        "4. Calculating distance of random image from each class to each class."
      ]
    },
    {
      "cell_type": "code",
      "execution_count": 66,
      "metadata": {
        "colab": {
          "base_uri": "https://localhost:8080/"
        },
        "id": "GQGsknOYp5zq",
        "outputId": "89cf1d20-a841-43d2-b595-e5b5776a2bd3"
      },
      "outputs": [
        {
          "name": "stdout",
          "output_type": "stream",
          "text": [
            "L1 Distances between Random Images from Each Class (CIFAR10):\n",
            "[[     0. 383696. 411811. 416464. 358742. 374720. 375425. 370240. 425550.\n",
            "  407206.]\n",
            " [400688.      0. 386003. 347648. 373894. 364528. 364977. 377712. 345982.\n",
            "  325846.]\n",
            " [371037. 398381.      0. 400941. 313523. 370461. 276190. 312989. 334763.\n",
            "  421123.]\n",
            " [366384. 437504. 382931.      0. 360326. 372464. 351665. 367216. 376702.\n",
            "  372950.]\n",
            " [421290. 408698. 468045. 422522.      0. 375914. 405291. 360682. 402936.\n",
            "  467280.]\n",
            " [408128. 419344. 411619. 412176. 406166.      0. 452801. 425344. 368782.\n",
            "  455910.]\n",
            " [404607. 416847. 504610. 428111. 374741. 331583.      0. 360383. 365517.\n",
            "  424485.]\n",
            " [414144. 406928. 471395. 416912. 423190. 357504. 421953.      0. 403726.\n",
            "  427878.]\n",
            " [356530. 438402. 446805. 406402. 374792. 413298. 414003. 379890.      0.\n",
            "  454232.]\n",
            " [377434. 400682. 362237. 411690. 315056. 326938. 358107. 356762. 329896.\n",
            "       0.]]\n"
          ]
        }
      ],
      "source": [
        "# Choose one random image from each class\n",
        "images = []\n",
        "for cls in range(10):\n",
        "  idx = np.random.choice(np.where(y_train == cls)[0])\n",
        "  images.append(x_train[idx])\n",
        "\n",
        "# Calculate L1 distance to every other class\n",
        "distances = np.zeros((10, 10))\n",
        "for i, img1 in enumerate(images):\n",
        "  for j, img2 in enumerate(images):\n",
        "    distances[i, j] = np.sum(np.abs(img1 - img2))\n",
        "\n",
        "# Display results\n",
        "print(\"L1 Distances between Random Images from Each Class (CIFAR10):\")\n",
        "print(distances)"
      ]
    },
    {
      "cell_type": "markdown",
      "metadata": {
        "id": "asKBm_cD5nz-"
      },
      "source": [
        "5. Finding out the nearest neighbor for each of the random image based on L1 distance.  \n",
        " Image from different class looks similar or gets same class label is because when L1-distance performed, it calculates the difference between each pixel of the testing image and the image class. Sometimes the handwritten digits can be as deformed and this can make the difference between pixels same as other image class, which inturn makes the algorithm decide it belongs to other class.\n",
        "\n",
        " For example, the digits 1 and 2 can be confused when written by hand if the writer does a sharper curve while writing 2, this can be mistaken with 1 as the pixel difference between each pixel will be obtained minimum. So, it can be misjudged between 1 and 2."
      ]
    },
    {
      "cell_type": "code",
      "execution_count": 67,
      "metadata": {
        "colab": {
          "base_uri": "https://localhost:8080/"
        },
        "id": "bu32mK-zqLo1",
        "outputId": "fe614d2a-58be-4c8a-d380-c441c056fbec"
      },
      "outputs": [
        {
          "name": "stdout",
          "output_type": "stream",
          "text": [
            "Closest Neighboring Class (K=1) for Each Image Class:\n",
            "Class 0: 4\n",
            "Class 1: 9\n",
            "Class 2: 6\n",
            "Class 3: 6\n",
            "Class 4: 7\n",
            "Class 5: 8\n",
            "Class 6: 5\n",
            "Class 7: 5\n",
            "Class 8: 0\n",
            "Class 9: 4\n"
          ]
        }
      ],
      "source": [
        "closest_neighbors = []\n",
        "for i, img in enumerate(images):\n",
        "  distances = []\n",
        "  for j, other_img in enumerate(images):\n",
        "    if i != j:\n",
        "      distance = np.sum(np.abs(img - other_img))\n",
        "      distances.append((distance, j))\n",
        "  closest_neighbors.append(min(distances, key=lambda x: x[0])[1])\n",
        "\n",
        "# Print the closest neighboring class for each image class\n",
        "print(\"Closest Neighboring Class (K=1) for Each Image Class:\")\n",
        "for i, cls in enumerate(closest_neighbors):\n",
        "  print(f\"Class {i}: {cls}\")"
      ]
    },
    {
      "cell_type": "markdown",
      "metadata": {
        "id": "aJm8D5I6MXb9"
      },
      "source": [
        "6. REpeating all the steps from 1-5 with replacing the distance metric with L2-distance i.e., Euclidean distance."
      ]
    },
    {
      "cell_type": "markdown",
      "metadata": {
        "id": "D4RxtQzXMvUq"
      },
      "source": [
        "L2-Distance between Random Images from each class in MNIST dataset."
      ]
    },
    {
      "cell_type": "code",
      "execution_count": 68,
      "metadata": {
        "colab": {
          "base_uri": "https://localhost:8080/"
        },
        "id": "zoHDYkOBs-kQ",
        "outputId": "d2841c6b-d865-4037-df18-8fa589491116"
      },
      "outputs": [
        {
          "name": "stdout",
          "output_type": "stream",
          "text": [
            "L2 Distances between Random Images from Each Class (MNIST):\n",
            "[[  0.         560.22406232 577.69369046 563.55656327 574.31698564\n",
            "  579.8715375  560.1392684  564.31728664 563.37997834 573.19804605]\n",
            " [560.22406232   0.         580.24736105 567.19749647 589.50233248\n",
            "  578.46521071 562.60732309 570.27624885 561.04188792 576.62379417]\n",
            " [577.69369046 580.24736105   0.         571.84438443 580.88553089\n",
            "  574.03222906 574.77647829 567.19132574 572.16693368 558.45322096]\n",
            " [563.55656327 567.19749647 571.84438443   0.         566.28084905\n",
            "  557.60469869 561.3341251  562.41088183 579.02417912 575.17475605]\n",
            " [574.31698564 589.50233248 580.88553089 566.28084905   0.\n",
            "  564.20652247 575.97569393 559.61236584 554.52953032 579.8223866 ]\n",
            " [579.8715375  578.46521071 574.03222906 557.60469869 564.20652247\n",
            "    0.         565.57316061 568.77324128 566.34794959 576.95493758]\n",
            " [560.1392684  562.60732309 574.77647829 561.3341251  575.97569393\n",
            "  565.57316061   0.         573.67760981 565.34148972 571.82339931]\n",
            " [564.31728664 570.27624885 567.19132574 562.41088183 559.61236584\n",
            "  568.77324128 573.67760981   0.         578.61126847 571.98251722]\n",
            " [563.37997834 561.04188792 572.16693368 579.02417912 554.52953032\n",
            "  566.34794959 565.34148972 578.61126847   0.         565.61736183]\n",
            " [573.19804605 576.62379417 558.45322096 575.17475605 579.8223866\n",
            "  576.95493758 571.82339931 571.98251722 565.61736183   0.        ]]\n"
          ]
        }
      ],
      "source": [
        "# Choose one random image from each class (same as before)\n",
        "images = []\n",
        "for cls in range(10):\n",
        "    idx = np.random.choice(np.where(y_train == cls)[0])\n",
        "    images.append(x_train[idx])\n",
        "\n",
        "# Calculate L2 distance to every other class\n",
        "distances = np.zeros((10, 10))\n",
        "for i, img1 in enumerate(images):\n",
        "    for j, img2 in enumerate(images):\n",
        "        distances[i, j] = np.sqrt(np.sum((img1 - img2) ** 2))  # L2 distance calculation\n",
        "\n",
        "# Display results\n",
        "print(\"L2 Distances between Random Images from Each Class (MNIST):\")\n",
        "print(distances)\n",
        "\n"
      ]
    },
    {
      "cell_type": "markdown",
      "metadata": {
        "id": "uQ85nAInM6tm"
      },
      "source": [
        "L2-Distance between random images from each class in CIFAR-10 dataset."
      ]
    },
    {
      "cell_type": "code",
      "execution_count": 69,
      "metadata": {
        "colab": {
          "base_uri": "https://localhost:8080/"
        },
        "id": "RqdJ1r-GuG-m",
        "outputId": "c09f1b27-b06b-4313-e91d-d10ae6684de0"
      },
      "outputs": [
        {
          "name": "stdout",
          "output_type": "stream",
          "text": [
            "L2 Distances between Random Images from Each Class (CIFAR10):\n",
            "[[  0.         569.79382236 571.90820942 574.73385145 572.6281516\n",
            "  576.58390543 570.57251949 570.79155565 566.45035087 567.84504929]\n",
            " [569.79382236   0.         575.51020842 565.53337656 565.44318901\n",
            "  564.91415277 563.39861555 561.66538081 570.42352686 564.84422631]\n",
            " [571.90820942 575.51020842   0.         567.43634004 563.02753041\n",
            "  577.02512944 567.37113074 570.58916919 586.26018115 564.8070467 ]\n",
            " [574.73385145 565.53337656 567.43634004   0.         571.9685306\n",
            "  556.08452595 575.39030232 560.92245453 567.50947129 565.33087657]\n",
            " [572.6281516  565.44318901 563.02753041 571.9685306    0.\n",
            "  574.25778184 568.55430699 575.07043047 579.70768496 569.51470569]\n",
            " [576.58390543 564.91415277 577.02512944 556.08452595 574.25778184\n",
            "    0.         565.4644109  568.71433954 567.19220728 571.19086127]\n",
            " [570.57251949 563.39861555 567.37113074 575.39030232 568.55430699\n",
            "  565.4644109    0.         560.22495482 573.70811394 569.23193867]\n",
            " [570.79155565 561.66538081 570.58916919 560.92245453 575.07043047\n",
            "  568.71433954 560.22495482   0.         563.27701888 564.56089131]\n",
            " [566.45035087 570.42352686 586.26018115 567.50947129 579.70768496\n",
            "  567.19220728 573.70811394 563.27701888   0.         569.66481373]\n",
            " [567.84504929 564.84422631 564.8070467  565.33087657 569.51470569\n",
            "  571.19086127 569.23193867 564.56089131 569.66481373   0.        ]]\n"
          ]
        }
      ],
      "source": [
        "# Choose one random image from each class\n",
        "images = []\n",
        "for cls in range(10):\n",
        "  idx = np.random.choice(np.where(y_train == cls)[0])\n",
        "  images.append(x_train[idx])\n",
        "\n",
        "# Calculate L2 distance to every other class\n",
        "distances = np.zeros((10, 10))\n",
        "for i, img1 in enumerate(images):\n",
        "  for j, img2 in enumerate(images):\n",
        "    distances[i, j] = np.sqrt(np.sum((img1 - img2)**2))\n",
        "\n",
        "# Display results\n",
        "print(\"L2 Distances between Random Images from Each Class (CIFAR10):\")\n",
        "print(distances)"
      ]
    },
    {
      "cell_type": "code",
      "execution_count": 71,
      "metadata": {
        "colab": {
          "base_uri": "https://localhost:8080/"
        },
        "id": "WIGXT3sdwc-Y",
        "outputId": "48c17fc9-f769-46f9-86df-105405e4e4e1"
      },
      "outputs": [
        {
          "name": "stdout",
          "output_type": "stream",
          "text": [
            "Closest Neighboring Class (K=2) for Each Image Class:\n",
            "Class 0: 8\n",
            "Class 1: 7\n",
            "Class 2: 4\n",
            "Class 3: 5\n",
            "Class 4: 2\n",
            "Class 5: 3\n",
            "Class 6: 7\n",
            "Class 7: 6\n",
            "Class 8: 7\n",
            "Class 9: 7\n"
          ]
        }
      ],
      "source": [
        "closest_neighbors = []\n",
        "for i, img in enumerate(images):\n",
        "  distances = []\n",
        "  for j, other_img in enumerate(images):\n",
        "    if i != j:\n",
        "      distance = np.sqrt(np.sum((img - other_img)**2))\n",
        "      distances.append((distance, j))\n",
        "  closest_neighbors.append(min(distances, key=lambda x: x[0])[1])\n",
        "\n",
        "# Print the closest neighboring class for each image class\n",
        "print(\"Closest Neighboring Class (K=2) for Each Image Class:\")\n",
        "for i, cls in enumerate(closest_neighbors):\n",
        "  print(f\"Class {i}: {cls}\")"
      ]
    },
    {
      "cell_type": "markdown",
      "metadata": {
        "id": "FX5GRsxxg3Gj"
      },
      "source": [
        "# MNIST datasets"
      ]
    },
    {
      "cell_type": "markdown",
      "metadata": {
        "id": "vwoAYB33NHFC"
      },
      "source": [
        "1. Divinding the MNIST dataset into train and test with 80% and 20% split."
      ]
    },
    {
      "cell_type": "code",
      "execution_count": 62,
      "metadata": {
        "colab": {
          "base_uri": "https://localhost:8080/"
        },
        "id": "nhy2nHG4hs4q",
        "outputId": "96736724-0050-4b98-dbf9-4d40172e7124"
      },
      "outputs": [
        {
          "name": "stderr",
          "output_type": "stream",
          "text": [
            "/usr/local/lib/python3.10/dist-packages/sklearn/datasets/_openml.py:968: FutureWarning: The default value of `parser` will change from `'liac-arff'` to `'auto'` in 1.4. You can set `parser='auto'` to silence this warning. Therefore, an `ImportError` will be raised from 1.4 if the dataset is dense and pandas is not installed. Note that the pandas parser may return different data types. See the Notes Section in fetch_openml's API doc for details.\n",
            "  warn(\n"
          ]
        }
      ],
      "source": [
        "from sklearn.model_selection import train_test_split\n",
        "from sklearn.datasets import fetch_openml\n",
        "\n",
        "mnist = fetch_openml('mnist_784', version=1)\n",
        "X, y = mnist[\"data\"], mnist[\"target\"]\n",
        "\n",
        "# Split the data into train and test sets\n",
        "X_train, X_test, y_train, y_test = train_test_split(X, y, test_size=0.2, random_state=42)"
      ]
    },
    {
      "cell_type": "markdown",
      "metadata": {
        "id": "0vtnmDzFNWrR"
      },
      "source": [
        "2. Performing the K-Nearest neighbor algorithm with L1-distance metric and K value as 1."
      ]
    },
    {
      "cell_type": "code",
      "execution_count": 6,
      "metadata": {
        "colab": {
          "base_uri": "https://localhost:8080/"
        },
        "id": "l07tv9tAjtUz",
        "outputId": "68221025-1e91-4514-acb6-c4cbc9e08dfe"
      },
      "outputs": [
        {
          "name": "stdout",
          "output_type": "stream",
          "text": [
            "(56000, 784) (14000, 784) (56000,) (14000,)\n"
          ]
        }
      ],
      "source": [
        "from sklearn.neighbors import KNeighborsClassifier\n",
        "\n",
        "\"\"\"# Reshape the data to 2D\n",
        "X_train = X_train.reshape(X_train.shape[0], -1)\n",
        "X_test = X_test.reshape(X_test.shape[0], -1)\n",
        "\"\"\"\n",
        "print(X_train.shape, X_test.shape, y_train.shape, y_test.shape)\n",
        "\n",
        "# Create a KNN classifier with K=5 and L1 distance\n",
        "knn_l1 = KNeighborsClassifier(n_neighbors=5, metric='manhattan')\n",
        "\n",
        "# Fit the classifier on the training data\n",
        "knn_l1.fit(X_train, y_train)\n",
        "\n",
        "# Predict the labels for the test data\n",
        "y_pred_l1 = knn_l1.predict(X_test)"
      ]
    },
    {
      "cell_type": "markdown",
      "metadata": {
        "id": "GcqxEefxNnxr"
      },
      "source": [
        "Computing time taken by the model to perform KNN algorithm."
      ]
    },
    {
      "cell_type": "code",
      "execution_count": 7,
      "metadata": {
        "colab": {
          "base_uri": "https://localhost:8080/"
        },
        "id": "TVvnmWIjsqtq",
        "outputId": "ffd21f9a-aafe-4118-cc7d-47ea68c8cafe"
      },
      "outputs": [
        {
          "name": "stdout",
          "output_type": "stream",
          "text": [
            "Elapsed time: 848.85 seconds\n"
          ]
        }
      ],
      "source": [
        "import time\n",
        "\n",
        "# Start the timer\n",
        "start_time = time.time()\n",
        "\n",
        "# perform the algorithm\n",
        "y_pred_l1 = knn_l1.predict(X_test)\n",
        "\n",
        "# end the timer\n",
        "end_time = time.time()\n",
        "\n",
        "# Calculate the elapsed time by subtracting end_time to start_time\n",
        "elapsed_time = end_time - start_time\n",
        "\n",
        "print(f\"Elapsed time: {elapsed_time:.2f} seconds\")"
      ]
    },
    {
      "cell_type": "markdown",
      "metadata": {
        "id": "T0Mwsk2IOBLL"
      },
      "source": [
        "4. Repeating steps 2 and 3 for k values 25, 55, and 105."
      ]
    },
    {
      "cell_type": "code",
      "execution_count": 8,
      "metadata": {
        "colab": {
          "base_uri": "https://localhost:8080/"
        },
        "id": "ERiGw2aTvzaA",
        "outputId": "ebd6a466-bed3-497c-ac8e-2419e990267d"
      },
      "outputs": [
        {
          "name": "stdout",
          "output_type": "stream",
          "text": [
            "K=25\n",
            "Elapsed time: 796.19 seconds\n",
            "K=55\n",
            "Elapsed time: 773.98 seconds\n",
            "K=105\n",
            "Elapsed time: 775.18 seconds\n"
          ]
        }
      ],
      "source": [
        "for k in [25, 55, 105]:\n",
        "    knn_l1 = KNeighborsClassifier(n_neighbors=k, metric='manhattan')\n",
        "    knn_l1.fit(X_train, y_train)\n",
        "    y_pred_l1 = knn_l1.predict(X_test)\n",
        "\n",
        "    start_time = time.time()\n",
        "    y_pred_l1 = knn_l1.predict(X_test)\n",
        "    end_time = time.time()\n",
        "    elapsed_time = end_time - start_time\n",
        "\n",
        "    print(f\"K={k}\")\n",
        "    print(f\"Elapsed time: {elapsed_time:.2f} seconds\")"
      ]
    },
    {
      "cell_type": "markdown",
      "metadata": {
        "id": "_BKnpbvuOSJN"
      },
      "source": [
        "5. Repeating steps 2,3, and 4 with L2-distance metrics.\n",
        "\n",
        "For this step I have used a single loop with k values [5,25,55,105] which provides the answer for steps 2,3,and 4 and using L2-distance metrics."
      ]
    },
    {
      "cell_type": "code",
      "execution_count": null,
      "metadata": {
        "id": "RjNPvADlssJV"
      },
      "outputs": [],
      "source": [
        "for k in [5, 25, 55, 105]:\n",
        "  # Create a KNN classifier with the specified metric and K\n",
        "  knn = KNeighborsClassifier(n_neighbors=k, metric='euclidean')\n",
        "\n",
        "  # Start timing for testing\n",
        "  start_time = time.time()\n",
        "\n",
        "  # Fit the classifier on the training data\n",
        "  knn.fit(X_train, Y_train)\n",
        "\n",
        "  # Predict labels for the test data\n",
        "  y_pred = knn.predict(X_test)\n",
        "\n",
        "  # Stop timing and calculate elapsed time\n",
        "  end_time = time.time()\n",
        "  elapsed_time = end_time - start_time\n",
        "\n",
        "  print(f\"K={k}, Metric={metric}, Elapsed Time: {elapsed_time:.4f} seconds\")"
      ]
    },
    {
      "cell_type": "markdown",
      "metadata": {
        "id": "6hwOzRzDQHfv"
      },
      "source": [
        "Implementing the neural network on MNIST dataset using the given link."
      ]
    },
    {
      "cell_type": "code",
      "execution_count": 9,
      "metadata": {
        "colab": {
          "base_uri": "https://localhost:8080/"
        },
        "id": "klaL3SdQv5pF",
        "outputId": "b143150b-15b2-4e53-c401-1bfe445ae590"
      },
      "outputs": [
        {
          "name": "stdout",
          "output_type": "stream",
          "text": [
            "2.15.0\n"
          ]
        }
      ],
      "source": [
        "# TensorFlow and tf.keras\n",
        "import tensorflow as tf\n",
        "\n",
        "# Helper libraries\n",
        "import numpy as np\n",
        "import matplotlib.pyplot as plt\n",
        "\n",
        "print(tf.__version__)"
      ]
    },
    {
      "cell_type": "code",
      "execution_count": 10,
      "metadata": {
        "id": "ji-wsFgVQ5Qw"
      },
      "outputs": [],
      "source": [
        "mnist = tf.keras.datasets.mnist\n",
        "\n",
        "(train_images, train_labels), (test_images, test_labels) = mnist.load_data()"
      ]
    },
    {
      "cell_type": "code",
      "execution_count": 11,
      "metadata": {
        "id": "LUuOBkfQRNQg"
      },
      "outputs": [],
      "source": [
        "classes= np.unique(train_labels)"
      ]
    },
    {
      "cell_type": "code",
      "execution_count": 12,
      "metadata": {
        "colab": {
          "base_uri": "https://localhost:8080/"
        },
        "id": "_PKatBtpgiuT",
        "outputId": "b9b37146-ef5f-4cd7-c405-82149ba16d2b"
      },
      "outputs": [
        {
          "data": {
            "text/plain": [
              "(60000, 28, 28)"
            ]
          },
          "execution_count": 12,
          "metadata": {},
          "output_type": "execute_result"
        }
      ],
      "source": [
        "train_images.shape"
      ]
    },
    {
      "cell_type": "code",
      "execution_count": 13,
      "metadata": {
        "colab": {
          "base_uri": "https://localhost:8080/"
        },
        "id": "SUeuPi_wgj_v",
        "outputId": "7c586e8d-09b4-4d70-e63e-0453fb3ae114"
      },
      "outputs": [
        {
          "data": {
            "text/plain": [
              "60000"
            ]
          },
          "execution_count": 13,
          "metadata": {},
          "output_type": "execute_result"
        }
      ],
      "source": [
        "len(train_labels)"
      ]
    },
    {
      "cell_type": "code",
      "execution_count": 14,
      "metadata": {
        "colab": {
          "base_uri": "https://localhost:8080/",
          "height": 430
        },
        "id": "iKxRuIjvglfq",
        "outputId": "974a0dfd-22ee-4223-d1f3-b9d5b51bcfa7"
      },
      "outputs": [
        {
          "data": {
            "image/png": "[encoded data removed]",
            "text/plain": [
              "<Figure size 640x480 with 2 Axes>"
            ]
          },
          "metadata": {},
          "output_type": "display_data"
        }
      ],
      "source": [
        "plt.figure()\n",
        "plt.imshow(train_images[0])\n",
        "plt.colorbar()\n",
        "plt.grid(False)\n",
        "plt.show()\n"
      ]
    },
    {
      "cell_type": "code",
      "execution_count": 15,
      "metadata": {
        "id": "7EFIEFhNgm2n"
      },
      "outputs": [],
      "source": [
        "train_images = train_images / 255.0\n",
        "\n",
        "test_images = test_images / 255.0"
      ]
    },
    {
      "cell_type": "code",
      "execution_count": 16,
      "metadata": {
        "colab": {
          "base_uri": "https://localhost:8080/",
          "height": 826
        },
        "id": "LWjUtUEygoUL",
        "outputId": "f499e1d9-79b5-411f-de13-bf66c240a239"
      },
      "outputs": [
        {
          "data": {
            "image/png": "[encoded data removed]",
            "text/plain": [
              "<Figure size 1000x1000 with 25 Axes>"
            ]
          },
          "metadata": {},
          "output_type": "display_data"
        }
      ],
      "source": [
        "plt.figure(figsize=(10,10))\n",
        "for i in range(25):\n",
        "    plt.subplot(5,5,i+1)\n",
        "    plt.xticks([])\n",
        "    plt.yticks([])\n",
        "    plt.grid(False)\n",
        "    plt.imshow(train_images[i], cmap=plt.cm.binary)\n",
        "    plt.xlabel(classes[train_labels[i]])\n",
        "plt.show()"
      ]
    },
    {
      "cell_type": "code",
      "execution_count": 17,
      "metadata": {
        "id": "dpE3J6ZSgptD"
      },
      "outputs": [],
      "source": [
        "# creating a neural network with 3 layers with one hidden layer\n",
        "model = tf.keras.Sequential([\n",
        "    tf.keras.layers.Flatten(input_shape=(28, 28)),\n",
        "    tf.keras.layers.Dense(128, activation='relu'),\n",
        "    tf.keras.layers.Dense(10)\n",
        "])"
      ]
    },
    {
      "cell_type": "code",
      "execution_count": 18,
      "metadata": {
        "id": "uZK3sXUVg4Bf"
      },
      "outputs": [],
      "source": [
        "model.compile(optimizer='adam',\n",
        "              loss=tf.keras.losses.SparseCategoricalCrossentropy(from_logits=True),\n",
        "              metrics=['accuracy'])"
      ]
    },
    {
      "cell_type": "code",
      "execution_count": 19,
      "metadata": {
        "colab": {
          "base_uri": "https://localhost:8080/"
        },
        "id": "fqHwfPEAg6Dr",
        "outputId": "2b9aba2a-7754-48ea-f3a6-13612dbc8217"
      },
      "outputs": [
        {
          "name": "stdout",
          "output_type": "stream",
          "text": [
            "Epoch 1/10\n",
            "1875/1875 [==============================] - 12s 5ms/step - loss: 0.2543 - accuracy: 0.9268\n",
            "Epoch 2/10\n",
            "1875/1875 [==============================] - 11s 6ms/step - loss: 0.1145 - accuracy: 0.9662\n",
            "Epoch 3/10\n",
            "1875/1875 [==============================] - 17s 9ms/step - loss: 0.0785 - accuracy: 0.9760\n",
            "Epoch 4/10\n",
            "1875/1875 [==============================] - 11s 6ms/step - loss: 0.0583 - accuracy: 0.9820\n",
            "Epoch 5/10\n",
            "1875/1875 [==============================] - 9s 5ms/step - loss: 0.0455 - accuracy: 0.9859\n",
            "Epoch 6/10\n",
            "1875/1875 [==============================] - 8s 4ms/step - loss: 0.0354 - accuracy: 0.9891\n",
            "Epoch 7/10\n",
            "1875/1875 [==============================] - 8s 5ms/step - loss: 0.0282 - accuracy: 0.9914\n",
            "Epoch 8/10\n",
            "1875/1875 [==============================] - 7s 4ms/step - loss: 0.0236 - accuracy: 0.9923\n",
            "Epoch 9/10\n",
            "1875/1875 [==============================] - 8s 4ms/step - loss: 0.0193 - accuracy: 0.9939\n",
            "Epoch 10/10\n",
            "1875/1875 [==============================] - 8s 5ms/step - loss: 0.0156 - accuracy: 0.9952\n"
          ]
        },
        {
          "data": {
            "text/plain": [
              "<keras.src.callbacks.History at 0x7d3136a36860>"
            ]
          },
          "execution_count": 19,
          "metadata": {},
          "output_type": "execute_result"
        }
      ],
      "source": [
        "model.fit(train_images, train_labels, epochs=10)"
      ]
    },
    {
      "cell_type": "code",
      "execution_count": 20,
      "metadata": {
        "colab": {
          "base_uri": "https://localhost:8080/"
        },
        "id": "lBbu-hedg7XC",
        "outputId": "be86c8c7-c52d-4f63-aa14-e4d817b694d9"
      },
      "outputs": [
        {
          "name": "stdout",
          "output_type": "stream",
          "text": [
            "313/313 - 1s - loss: 0.0730 - accuracy: 0.9811 - 733ms/epoch - 2ms/step\n",
            "\n",
            "Test accuracy: 0.9811000227928162\n"
          ]
        }
      ],
      "source": [
        "test_loss, test_acc = model.evaluate(test_images,  test_labels, verbose=2)\n",
        "\n",
        "print('\\nTest accuracy:', test_acc)"
      ]
    },
    {
      "cell_type": "code",
      "execution_count": 21,
      "metadata": {
        "id": "X1i26xqdg9kZ"
      },
      "outputs": [],
      "source": [
        "probability_model = tf.keras.Sequential([model,\n",
        "                                         tf.keras.layers.Softmax()])"
      ]
    },
    {
      "cell_type": "code",
      "execution_count": 22,
      "metadata": {
        "colab": {
          "base_uri": "https://localhost:8080/"
        },
        "id": "TcKsvVoohAJw",
        "outputId": "5dc47091-650c-413a-b183-46f473b57521"
      },
      "outputs": [
        {
          "name": "stdout",
          "output_type": "stream",
          "text": [
            "313/313 [==============================] - 1s 3ms/step\n"
          ]
        }
      ],
      "source": [
        "predictions = probability_model.predict(test_images)"
      ]
    },
    {
      "cell_type": "code",
      "execution_count": 23,
      "metadata": {
        "colab": {
          "base_uri": "https://localhost:8080/"
        },
        "id": "sA_geldQhCHr",
        "outputId": "f988fa60-a04a-48ee-9c38-1f2ad6acd973"
      },
      "outputs": [
        {
          "data": {
            "text/plain": [
              "array([6.5582097e-12, 1.5262561e-10, 2.6006466e-09, 1.4468802e-07,\n",
              "       2.3621510e-16, 4.3419401e-10, 4.4185829e-18, 9.9999982e-01,\n",
              "       2.2438287e-11, 1.4737818e-09], dtype=float32)"
            ]
          },
          "execution_count": 23,
          "metadata": {},
          "output_type": "execute_result"
        }
      ],
      "source": [
        "predictions[0]"
      ]
    },
    {
      "cell_type": "code",
      "execution_count": 24,
      "metadata": {
        "colab": {
          "base_uri": "https://localhost:8080/"
        },
        "id": "1tNP1IIFhDpv",
        "outputId": "9c4d6e46-02d7-41f6-a3a2-de42ad87a5f0"
      },
      "outputs": [
        {
          "data": {
            "text/plain": [
              "1"
            ]
          },
          "execution_count": 24,
          "metadata": {},
          "output_type": "execute_result"
        }
      ],
      "source": [
        "np.argmax(predictions[5])"
      ]
    },
    {
      "cell_type": "code",
      "execution_count": 25,
      "metadata": {
        "colab": {
          "base_uri": "https://localhost:8080/"
        },
        "id": "133WraaehFTe",
        "outputId": "df0b9af3-8698-42f0-f6b9-1aef8295735d"
      },
      "outputs": [
        {
          "data": {
            "text/plain": [
              "1"
            ]
          },
          "execution_count": 25,
          "metadata": {},
          "output_type": "execute_result"
        }
      ],
      "source": [
        "test_labels[5]"
      ]
    },
    {
      "cell_type": "code",
      "execution_count": 26,
      "metadata": {
        "id": "dAV6PYPPhGs5"
      },
      "outputs": [],
      "source": [
        "def plot_image(i, predictions_array, true_label, img):\n",
        "  true_label, img = true_label[i], img[i]\n",
        "  plt.grid(False)\n",
        "  plt.xticks([])\n",
        "  plt.yticks([])\n",
        "\n",
        "  plt.imshow(img, cmap=plt.cm.binary)\n",
        "\n",
        "  predicted_label = np.argmax(predictions_array)\n",
        "  if predicted_label == true_label:\n",
        "    color = 'blue'\n",
        "  else:\n",
        "    color = 'red'\n",
        "\n",
        "  plt.xlabel(\"{} {:2.0f}% ({})\".format(classes[predicted_label],\n",
        "                                100*np.max(predictions_array),\n",
        "                                classes[true_label]),\n",
        "                                color=color)\n",
        "\n",
        "def plot_value_array(i, predictions_array, true_label):\n",
        "  true_label = true_label[i]\n",
        "  plt.grid(False)\n",
        "  plt.xticks(range(10))\n",
        "  plt.yticks([])\n",
        "  thisplot = plt.bar(range(10), predictions_array, color=\"#777777\")\n",
        "  plt.ylim([0, 1])\n",
        "  predicted_label = np.argmax(predictions_array)\n",
        "\n",
        "  thisplot[predicted_label].set_color('red')\n",
        "  thisplot[true_label].set_color('blue')"
      ]
    },
    {
      "cell_type": "code",
      "execution_count": 27,
      "metadata": {
        "colab": {
          "base_uri": "https://localhost:8080/",
          "height": 1000
        },
        "id": "Z9Cd1Ju8iCn-",
        "outputId": "ceb15432-3d12-4e86-e4ae-a78a0b53a6d1"
      },
      "outputs": [
        {
          "data": {
            "image/png": "[encoded data removed]",
            "text/plain": [
              "<Figure size 1200x1000 with 30 Axes>"
            ]
          },
          "metadata": {},
          "output_type": "display_data"
        }
      ],
      "source": [
        "# Plot the first X test images, their predicted labels, and the true labels.\n",
        "# Color correct predictions in blue and incorrect predictions in red.\n",
        "num_rows = 5\n",
        "num_cols = 3\n",
        "num_images = num_rows*num_cols\n",
        "plt.figure(figsize=(2*2*num_cols, 2*num_rows))\n",
        "for i in range(num_images):\n",
        "  plt.subplot(num_rows, 2*num_cols, 2*i+1)\n",
        "  plot_image(i, predictions[i], test_labels, test_images)\n",
        "  plt.subplot(num_rows, 2*num_cols, 2*i+2)\n",
        "  plot_value_array(i, predictions[i], test_labels)\n",
        "plt.tight_layout()\n",
        "plt.show()"
      ]
    },
    {
      "cell_type": "markdown",
      "metadata": {
        "id": "0MW57scWiK-8"
      },
      "source": [
        "2. Neural network with second layer has input number of neurons i.e, 10"
      ]
    },
    {
      "cell_type": "code",
      "execution_count": 28,
      "metadata": {
        "id": "vrnamiTniErm"
      },
      "outputs": [],
      "source": [
        "model = tf.keras.Sequential([\n",
        "    tf.keras.layers.Flatten(input_shape=(28, 28)),\n",
        "    tf.keras.layers.Dense(10, activation='relu'),\n",
        "    tf.keras.layers.Dense(10)\n",
        "])"
      ]
    },
    {
      "cell_type": "code",
      "execution_count": 29,
      "metadata": {
        "id": "_x1eTWDfigIl"
      },
      "outputs": [],
      "source": [
        "model.compile(optimizer='adam',\n",
        "              loss=tf.keras.losses.SparseCategoricalCrossentropy(from_logits=True),\n",
        "              metrics=['accuracy'])"
      ]
    },
    {
      "cell_type": "code",
      "execution_count": 30,
      "metadata": {
        "colab": {
          "base_uri": "https://localhost:8080/"
        },
        "id": "1pnQrQSYijhF",
        "outputId": "963a9a66-3625-4d9d-843c-1e5802e6ea18"
      },
      "outputs": [
        {
          "name": "stdout",
          "output_type": "stream",
          "text": [
            "Epoch 1/10\n",
            "1875/1875 [==============================] - 6s 3ms/step - loss: 0.5070 - accuracy: 0.8608\n",
            "Epoch 2/10\n",
            "1875/1875 [==============================] - 4s 2ms/step - loss: 0.2802 - accuracy: 0.9209\n",
            "Epoch 3/10\n",
            "1875/1875 [==============================] - 4s 2ms/step - loss: 0.2513 - accuracy: 0.9307\n",
            "Epoch 4/10\n",
            "1875/1875 [==============================] - 8s 4ms/step - loss: 0.2360 - accuracy: 0.9332\n",
            "Epoch 5/10\n",
            "1875/1875 [==============================] - 4s 2ms/step - loss: 0.2253 - accuracy: 0.9363\n",
            "Epoch 6/10\n",
            "1875/1875 [==============================] - 5s 3ms/step - loss: 0.2167 - accuracy: 0.9390\n",
            "Epoch 7/10\n",
            "1875/1875 [==============================] - 4s 2ms/step - loss: 0.2116 - accuracy: 0.9401\n",
            "Epoch 8/10\n",
            "1875/1875 [==============================] - 4s 2ms/step - loss: 0.2069 - accuracy: 0.9414\n",
            "Epoch 9/10\n",
            "1875/1875 [==============================] - 5s 3ms/step - loss: 0.2021 - accuracy: 0.9420\n",
            "Epoch 10/10\n",
            "1875/1875 [==============================] - 4s 2ms/step - loss: 0.1989 - accuracy: 0.9434\n"
          ]
        },
        {
          "data": {
            "text/plain": [
              "<keras.src.callbacks.History at 0x7d30e923c040>"
            ]
          },
          "execution_count": 30,
          "metadata": {},
          "output_type": "execute_result"
        }
      ],
      "source": [
        "model.fit(train_images, train_labels, epochs=10)"
      ]
    },
    {
      "cell_type": "code",
      "execution_count": 31,
      "metadata": {
        "colab": {
          "base_uri": "https://localhost:8080/"
        },
        "id": "ELEdhp7xin2h",
        "outputId": "9e99d842-0370-48c0-b512-bd79fd3034f6"
      },
      "outputs": [
        {
          "name": "stdout",
          "output_type": "stream",
          "text": [
            "313/313 - 1s - loss: 0.2204 - accuracy: 0.9364 - 786ms/epoch - 3ms/step\n",
            "\n",
            "Test accuracy: 0.9363999962806702\n"
          ]
        }
      ],
      "source": [
        "test_loss, test_acc = model.evaluate(test_images,  test_labels, verbose=2)\n",
        "\n",
        "print('\\nTest accuracy:', test_acc)"
      ]
    },
    {
      "cell_type": "code",
      "execution_count": 32,
      "metadata": {
        "id": "4TMpmLL1i-3J"
      },
      "outputs": [],
      "source": [
        "probability_model = tf.keras.Sequential([model,\n",
        "                                         tf.keras.layers.Softmax()])"
      ]
    },
    {
      "cell_type": "code",
      "execution_count": 33,
      "metadata": {
        "colab": {
          "base_uri": "https://localhost:8080/"
        },
        "id": "gzzUj-UijH2p",
        "outputId": "fde05065-0c62-4ab9-8bdb-fea9432b32f8"
      },
      "outputs": [
        {
          "name": "stdout",
          "output_type": "stream",
          "text": [
            "313/313 [==============================] - 1s 3ms/step\n"
          ]
        }
      ],
      "source": [
        "predictions = probability_model.predict(test_images)"
      ]
    },
    {
      "cell_type": "code",
      "execution_count": 34,
      "metadata": {
        "colab": {
          "base_uri": "https://localhost:8080/"
        },
        "id": "qEh8rCvnjLAk",
        "outputId": "232410ec-4889-4f05-e3f7-280c0137602f"
      },
      "outputs": [
        {
          "data": {
            "text/plain": [
              "array([2.34036449e-07, 9.37650491e-09, 1.13260321e-05, 7.28249084e-04,\n",
              "       9.99109337e-11, 2.21299544e-07, 4.88891408e-15, 9.99255419e-01,\n",
              "       1.08762556e-07, 4.44210627e-06], dtype=float32)"
            ]
          },
          "execution_count": 34,
          "metadata": {},
          "output_type": "execute_result"
        }
      ],
      "source": [
        "predictions[0]"
      ]
    },
    {
      "cell_type": "code",
      "execution_count": 35,
      "metadata": {
        "colab": {
          "base_uri": "https://localhost:8080/"
        },
        "id": "ZH42hzXUjMrN",
        "outputId": "b374d37d-c150-410e-9f0e-e21f570940bd"
      },
      "outputs": [
        {
          "data": {
            "text/plain": [
              "1"
            ]
          },
          "execution_count": 35,
          "metadata": {},
          "output_type": "execute_result"
        }
      ],
      "source": [
        "np.argmax(predictions[5])"
      ]
    },
    {
      "cell_type": "code",
      "execution_count": 36,
      "metadata": {
        "colab": {
          "base_uri": "https://localhost:8080/"
        },
        "id": "DRlKdrmljOeZ",
        "outputId": "c690d9dd-8d68-4aac-ad7d-056806413bd3"
      },
      "outputs": [
        {
          "data": {
            "text/plain": [
              "1"
            ]
          },
          "execution_count": 36,
          "metadata": {},
          "output_type": "execute_result"
        }
      ],
      "source": [
        "test_labels[5]"
      ]
    },
    {
      "cell_type": "code",
      "execution_count": 37,
      "metadata": {
        "colab": {
          "base_uri": "https://localhost:8080/",
          "height": 1000
        },
        "id": "aCHemzHrjPxR",
        "outputId": "d0a2839b-17c8-44f5-eac1-dc87b8f8901c"
      },
      "outputs": [
        {
          "data": {
            "image/png": "[encoded data removed]",
            "text/plain": [
              "<Figure size 1200x1000 with 30 Axes>"
            ]
          },
          "metadata": {},
          "output_type": "display_data"
        }
      ],
      "source": [
        "# Plot the first X test images, their predicted labels, and the true labels.\n",
        "# Color correct predictions in blue and incorrect predictions in red.\n",
        "num_rows = 5\n",
        "num_cols = 3\n",
        "num_images = num_rows*num_cols\n",
        "plt.figure(figsize=(2*2*num_cols, 2*num_rows))\n",
        "for i in range(num_images):\n",
        "  plt.subplot(num_rows, 2*num_cols, 2*i+1)\n",
        "  plot_image(i, predictions[i], test_labels, test_images)\n",
        "  plt.subplot(num_rows, 2*num_cols, 2*i+2)\n",
        "  plot_value_array(i, predictions[i], test_labels)\n",
        "plt.tight_layout()\n",
        "plt.show()"
      ]
    },
    {
      "cell_type": "markdown",
      "metadata": {
        "id": "SX-Hz6igjdRG"
      },
      "source": [
        "3. Neural network with 2nd layer having 2 times the input layer neurons i.e, 20"
      ]
    },
    {
      "cell_type": "code",
      "execution_count": 38,
      "metadata": {
        "id": "X4R8PzGijSHS"
      },
      "outputs": [],
      "source": [
        "model = tf.keras.Sequential([\n",
        "    tf.keras.layers.Flatten(input_shape=(28, 28)),\n",
        "    tf.keras.layers.Dense(20, activation='relu'),\n",
        "    tf.keras.layers.Dense(10)\n",
        "])"
      ]
    },
    {
      "cell_type": "code",
      "execution_count": 39,
      "metadata": {
        "id": "dxXklv3CmyGy"
      },
      "outputs": [],
      "source": [
        "model.compile(optimizer='adam',\n",
        "              loss=tf.keras.losses.SparseCategoricalCrossentropy(from_logits=True),\n",
        "              metrics=['accuracy'])"
      ]
    },
    {
      "cell_type": "code",
      "execution_count": 40,
      "metadata": {
        "colab": {
          "base_uri": "https://localhost:8080/"
        },
        "id": "6Oo-hUS9m15r",
        "outputId": "6f2d8249-281b-4807-e749-c2653dbe6b6b"
      },
      "outputs": [
        {
          "name": "stdout",
          "output_type": "stream",
          "text": [
            "Epoch 1/10\n",
            "1875/1875 [==============================] - 5s 2ms/step - loss: 0.4014 - accuracy: 0.8883\n",
            "Epoch 2/10\n",
            "1875/1875 [==============================] - 7s 4ms/step - loss: 0.2332 - accuracy: 0.9339\n",
            "Epoch 3/10\n",
            "1875/1875 [==============================] - 6s 3ms/step - loss: 0.1947 - accuracy: 0.9445\n",
            "Epoch 4/10\n",
            "1875/1875 [==============================] - 7s 4ms/step - loss: 0.1712 - accuracy: 0.9512\n",
            "Epoch 5/10\n",
            "1875/1875 [==============================] - 6s 3ms/step - loss: 0.1560 - accuracy: 0.9554\n",
            "Epoch 6/10\n",
            "1875/1875 [==============================] - 7s 4ms/step - loss: 0.1436 - accuracy: 0.9582\n",
            "Epoch 7/10\n",
            "1875/1875 [==============================] - 5s 3ms/step - loss: 0.1363 - accuracy: 0.9602\n",
            "Epoch 8/10\n",
            "1875/1875 [==============================] - 6s 3ms/step - loss: 0.1285 - accuracy: 0.9627\n",
            "Epoch 9/10\n",
            "1875/1875 [==============================] - 7s 3ms/step - loss: 0.1224 - accuracy: 0.9638\n",
            "Epoch 10/10\n",
            "1875/1875 [==============================] - 7s 4ms/step - loss: 0.1182 - accuracy: 0.9652\n"
          ]
        },
        {
          "data": {
            "text/plain": [
              "<keras.src.callbacks.History at 0x7d31285190c0>"
            ]
          },
          "execution_count": 40,
          "metadata": {},
          "output_type": "execute_result"
        }
      ],
      "source": [
        "model.fit(train_images, train_labels, epochs=10)"
      ]
    },
    {
      "cell_type": "code",
      "execution_count": 41,
      "metadata": {
        "colab": {
          "base_uri": "https://localhost:8080/"
        },
        "id": "9Lyi2wobm3YC",
        "outputId": "de21fbe6-7be5-4405-db67-5e126f5d9458"
      },
      "outputs": [
        {
          "name": "stdout",
          "output_type": "stream",
          "text": [
            "313/313 - 1s - loss: 0.1416 - accuracy: 0.9576 - 576ms/epoch - 2ms/step\n",
            "\n",
            "Test accuracy: 0.9575999975204468\n"
          ]
        }
      ],
      "source": [
        "test_loss, test_acc = model.evaluate(test_images,  test_labels, verbose=2)\n",
        "\n",
        "print('\\nTest accuracy:', test_acc)"
      ]
    },
    {
      "cell_type": "code",
      "execution_count": 42,
      "metadata": {
        "id": "2hr80mblm6vu"
      },
      "outputs": [],
      "source": [
        "probability_model = tf.keras.Sequential([model,\n",
        "                                         tf.keras.layers.Softmax()])"
      ]
    },
    {
      "cell_type": "code",
      "execution_count": 43,
      "metadata": {
        "colab": {
          "base_uri": "https://localhost:8080/"
        },
        "id": "MXNoyMK6m7fE",
        "outputId": "5d27ea7e-5362-4cb1-d08d-6d49578caf26"
      },
      "outputs": [
        {
          "name": "stdout",
          "output_type": "stream",
          "text": [
            "313/313 [==============================] - 1s 2ms/step\n"
          ]
        }
      ],
      "source": [
        "predictions = probability_model.predict(test_images)"
      ]
    },
    {
      "cell_type": "code",
      "execution_count": 44,
      "metadata": {
        "colab": {
          "base_uri": "https://localhost:8080/"
        },
        "id": "fqsdBXmsm9Hp",
        "outputId": "8cf4e7e7-7fe1-469f-bae5-5fc9677a13f1"
      },
      "outputs": [
        {
          "data": {
            "text/plain": [
              "array([5.9537579e-06, 6.4113444e-11, 1.2654734e-04, 5.8671609e-03,\n",
              "       6.8219062e-09, 6.0143577e-08, 2.7656435e-15, 9.9397612e-01,\n",
              "       1.2397010e-05, 1.1747970e-05], dtype=float32)"
            ]
          },
          "execution_count": 44,
          "metadata": {},
          "output_type": "execute_result"
        }
      ],
      "source": [
        "predictions[0]"
      ]
    },
    {
      "cell_type": "code",
      "execution_count": 45,
      "metadata": {
        "colab": {
          "base_uri": "https://localhost:8080/"
        },
        "id": "kVt8Njbfm_1_",
        "outputId": "f37cce0d-49a2-4d98-c664-6fd687fd0100"
      },
      "outputs": [
        {
          "data": {
            "text/plain": [
              "1"
            ]
          },
          "execution_count": 45,
          "metadata": {},
          "output_type": "execute_result"
        }
      ],
      "source": [
        "np.argmax(predictions[5])"
      ]
    },
    {
      "cell_type": "code",
      "execution_count": 46,
      "metadata": {
        "colab": {
          "base_uri": "https://localhost:8080/"
        },
        "id": "JbvZnS5bnBTA",
        "outputId": "e0784a33-6052-4bb1-d4a7-fca25d086185"
      },
      "outputs": [
        {
          "data": {
            "text/plain": [
              "1"
            ]
          },
          "execution_count": 46,
          "metadata": {},
          "output_type": "execute_result"
        }
      ],
      "source": [
        "test_labels[5]"
      ]
    },
    {
      "cell_type": "code",
      "execution_count": 47,
      "metadata": {
        "colab": {
          "base_uri": "https://localhost:8080/",
          "height": 1000
        },
        "id": "QTljt3s7nD7d",
        "outputId": "3e2286af-ea81-496d-b43e-85de52f2d6c4"
      },
      "outputs": [
        {
          "data": {
            "image/png": "[encoded data removed]",
            "text/plain": [
              "<Figure size 1200x1000 with 30 Axes>"
            ]
          },
          "metadata": {},
          "output_type": "display_data"
        }
      ],
      "source": [
        "# Plot the first X test images, their predicted labels, and the true labels.\n",
        "# Color correct predictions in blue and incorrect predictions in red.\n",
        "num_rows = 5\n",
        "num_cols = 3\n",
        "num_images = num_rows*num_cols\n",
        "plt.figure(figsize=(2*2*num_cols, 2*num_rows))\n",
        "for i in range(num_images):\n",
        "  plt.subplot(num_rows, 2*num_cols, 2*i+1)\n",
        "  plot_image(i, predictions[i], test_labels, test_images)\n",
        "  plt.subplot(num_rows, 2*num_cols, 2*i+2)\n",
        "  plot_value_array(i, predictions[i], test_labels)\n",
        "plt.tight_layout()\n",
        "plt.show()"
      ]
    },
    {
      "cell_type": "markdown",
      "metadata": {
        "id": "NoZQmekenFGL"
      },
      "source": [
        "4. Neural network with 4 layers with random number of neurons, for this case I am going with adding 64 layers to the regular neural network"
      ]
    },
    {
      "cell_type": "code",
      "execution_count": 51,
      "metadata": {
        "id": "quhibz_KnbXS"
      },
      "outputs": [],
      "source": [
        "model = tf.keras.Sequential([\n",
        "    tf.keras.layers.Flatten(input_shape=(28, 28)),\n",
        "    tf.keras.layers.Dense(128, activation='relu'),\n",
        "    # adding extra layer to the model with 64 neurons\n",
        "    tf.keras.layers.Dense(64, activation='relu'),\n",
        "    tf.keras.layers.Dense(10)\n",
        "])"
      ]
    },
    {
      "cell_type": "code",
      "execution_count": 52,
      "metadata": {
        "id": "b3A-3hNgnpqZ"
      },
      "outputs": [],
      "source": [
        "model.compile(optimizer='adam',\n",
        "              loss=tf.keras.losses.SparseCategoricalCrossentropy(from_logits=True),\n",
        "              metrics=['accuracy'])"
      ]
    },
    {
      "cell_type": "code",
      "execution_count": 53,
      "metadata": {
        "colab": {
          "base_uri": "https://localhost:8080/"
        },
        "id": "TCG9ObEXnq3C",
        "outputId": "0e3e070f-fe11-4d0a-9eef-13fcafa6cac0"
      },
      "outputs": [
        {
          "name": "stdout",
          "output_type": "stream",
          "text": [
            "Epoch 1/10\n",
            "1875/1875 [==============================] - 12s 6ms/step - loss: 0.2428 - accuracy: 0.9282\n",
            "Epoch 2/10\n",
            "1875/1875 [==============================] - 10s 5ms/step - loss: 0.1023 - accuracy: 0.9690\n",
            "Epoch 3/10\n",
            "1875/1875 [==============================] - 9s 5ms/step - loss: 0.0709 - accuracy: 0.9781\n",
            "Epoch 4/10\n",
            "1875/1875 [==============================] - 9s 5ms/step - loss: 0.0530 - accuracy: 0.9829\n",
            "Epoch 5/10\n",
            "1875/1875 [==============================] - 18s 10ms/step - loss: 0.0418 - accuracy: 0.9861\n",
            "Epoch 6/10\n",
            "1875/1875 [==============================] - 17s 9ms/step - loss: 0.0352 - accuracy: 0.9886\n",
            "Epoch 7/10\n",
            "1875/1875 [==============================] - 9s 5ms/step - loss: 0.0287 - accuracy: 0.9902\n",
            "Epoch 8/10\n",
            "1875/1875 [==============================] - 10s 5ms/step - loss: 0.0246 - accuracy: 0.9915\n",
            "Epoch 9/10\n",
            "1875/1875 [==============================] - 8s 4ms/step - loss: 0.0222 - accuracy: 0.9926\n",
            "Epoch 10/10\n",
            "1875/1875 [==============================] - 9s 5ms/step - loss: 0.0205 - accuracy: 0.9929\n"
          ]
        },
        {
          "data": {
            "text/plain": [
              "<keras.src.callbacks.History at 0x7d312847ece0>"
            ]
          },
          "execution_count": 53,
          "metadata": {},
          "output_type": "execute_result"
        }
      ],
      "source": [
        "model.fit(train_images, train_labels, epochs=10)"
      ]
    },
    {
      "cell_type": "code",
      "execution_count": 54,
      "metadata": {
        "colab": {
          "base_uri": "https://localhost:8080/"
        },
        "id": "S8HOlojQnsI7",
        "outputId": "4be241af-1369-46b7-8288-74905412a6e6"
      },
      "outputs": [
        {
          "name": "stdout",
          "output_type": "stream",
          "text": [
            "313/313 - 1s - loss: 0.0792 - accuracy: 0.9801 - 680ms/epoch - 2ms/step\n",
            "\n",
            "Test accuracy: 0.9800999760627747\n"
          ]
        }
      ],
      "source": [
        "test_loss, test_acc = model.evaluate(test_images,  test_labels, verbose=2)\n",
        "\n",
        "print('\\nTest accuracy:', test_acc)"
      ]
    },
    {
      "cell_type": "code",
      "execution_count": 55,
      "metadata": {
        "id": "pQxh9mVbnuWG"
      },
      "outputs": [],
      "source": [
        "probability_model = tf.keras.Sequential([model,\n",
        "                                         tf.keras.layers.Softmax()])"
      ]
    },
    {
      "cell_type": "code",
      "execution_count": 56,
      "metadata": {
        "colab": {
          "base_uri": "https://localhost:8080/"
        },
        "id": "FY5m6BTFnvwf",
        "outputId": "c5a2c567-01bb-494f-bf39-7c8358eb4d6a"
      },
      "outputs": [
        {
          "name": "stdout",
          "output_type": "stream",
          "text": [
            "313/313 [==============================] - 1s 3ms/step\n"
          ]
        }
      ],
      "source": [
        "predictions = probability_model.predict(test_images)"
      ]
    },
    {
      "cell_type": "code",
      "execution_count": 57,
      "metadata": {
        "colab": {
          "base_uri": "https://localhost:8080/"
        },
        "id": "9QubSMi5nxBm",
        "outputId": "b454ff34-1679-4c1a-905b-fde4b0ccdfef"
      },
      "outputs": [
        {
          "data": {
            "text/plain": [
              "array([2.0065172e-10, 1.1111995e-08, 4.7134794e-08, 1.0884149e-06,\n",
              "       2.8421920e-10, 2.2819291e-09, 3.7873232e-15, 9.9999827e-01,\n",
              "       1.1912599e-10, 6.3403735e-07], dtype=float32)"
            ]
          },
          "execution_count": 57,
          "metadata": {},
          "output_type": "execute_result"
        }
      ],
      "source": [
        "predictions[0]"
      ]
    },
    {
      "cell_type": "code",
      "execution_count": 58,
      "metadata": {
        "colab": {
          "base_uri": "https://localhost:8080/"
        },
        "id": "Ir_Wsd8Znzrh",
        "outputId": "6204b62b-2a2d-4473-fbaf-283e9c1f6a95"
      },
      "outputs": [
        {
          "data": {
            "text/plain": [
              "1"
            ]
          },
          "execution_count": 58,
          "metadata": {},
          "output_type": "execute_result"
        }
      ],
      "source": [
        "np.argmax(predictions[5])"
      ]
    },
    {
      "cell_type": "code",
      "execution_count": 59,
      "metadata": {
        "colab": {
          "base_uri": "https://localhost:8080/"
        },
        "id": "2zrGV8vOn1jj",
        "outputId": "fcd0aa0d-9bf4-442b-c048-0fe7aaa1db8b"
      },
      "outputs": [
        {
          "data": {
            "text/plain": [
              "1"
            ]
          },
          "execution_count": 59,
          "metadata": {},
          "output_type": "execute_result"
        }
      ],
      "source": [
        "test_labels[5]"
      ]
    },
    {
      "cell_type": "code",
      "execution_count": 60,
      "metadata": {
        "colab": {
          "base_uri": "https://localhost:8080/",
          "height": 1000
        },
        "id": "4PSMeLWyn2L4",
        "outputId": "b103624c-d503-41c3-9444-c535a69b89f5"
      },
      "outputs": [
        {
          "data": {
            "image/png": "[encoded data removed]",
            "text/plain": [
              "<Figure size 1200x1000 with 30 Axes>"
            ]
          },
          "metadata": {},
          "output_type": "display_data"
        }
      ],
      "source": [
        "# Plot the first X test images, their predicted labels, and the true labels.\n",
        "# Color correct predictions in blue and incorrect predictions in red.\n",
        "num_rows = 5\n",
        "num_cols = 3\n",
        "num_images = num_rows*num_cols\n",
        "plt.figure(figsize=(2*2*num_cols, 2*num_rows))\n",
        "for i in range(num_images):\n",
        "  plt.subplot(num_rows, 2*num_cols, 2*i+1)\n",
        "  plot_image(i, predictions[i], test_labels, test_images)\n",
        "  plt.subplot(num_rows, 2*num_cols, 2*i+2)\n",
        "  plot_value_array(i, predictions[i], test_labels)\n",
        "plt.tight_layout()\n",
        "plt.show()"
      ]
    },
    {
      "cell_type": "markdown",
      "metadata": {
        "id": "eD_B0MQzn5Lx"
      },
      "source": [
        "5. The accuracy of neural net-1 is 98.11%.\n",
        "\n",
        "  The accuracy of neural net-2 is 93.64%.\n",
        "\n",
        "  The accuracy of neural net-3 is 95.76%.\n",
        "\n",
        "  The accuracy of neural net-4 is 98.01%.\n",
        "\n",
        "  I think for our problem MNIST dataset nueral net-1 is the perfect model with atmost accuracy and does not overfit to the data.\n",
        "  But in the case of neural net-4 where we used 4 layers, accuracy was 98.01%, but the model was overfitted to the dataset leading to inaccuracy in the slightly deformed test image. I think the reason for this is the dataset does not need more complex network since complex neural nets only work better on larger dataset with complex features and data noise. In our case, as the nn-1 is highly suitable for the dataset.\n",
        "  \n",
        "   Neural net-2 and neural net-4 does not have enough complexity to the model parameters so it lead to less accuracy and less confidence to the model. These both models works fine to regular images, if there is any irregularities in the model then it might a problem for the model to guess correctly with higher confidence.\n",
        "    \n",
        "\n"
      ]
    },
    {
      "cell_type": "markdown",
      "metadata": {
        "id": "6Uup53JT12to"
      },
      "source": [
        "# Observations"
      ]
    },
    {
      "cell_type": "markdown",
      "metadata": {
        "id": "svZukXF_2F8A"
      },
      "source": [
        "For complex datasets like MNIST and CIFAR-10, it is not correct way to use the L1 distance and L2 distance metrics to classify the images. As the results occured in the code, the accuracy will not be up to the mark. It just calculate the difference in the values of the pixels in the image and nothing more parameters comes into play. This makes it more susceptible to the misjudging an image by plainly basing on its pixel values. In our results the classes of different images are classified as they belong to a same class. So, this might not be a good model to depend on.\n",
        "\n",
        "\n",
        "By implementing the KNN algorithms to the datasets takes long times to be trained and also they do not have accuracies as they depend on the L1 and L2 distances as distance metrics. These long times and low accuracies make KNN models not suitable for the MNIST and CIFAR-10 datasets.\n",
        "\n",
        "\n",
        "Neural network seems to be the best option for the MNIST datset as they have higher accuracy rates and lower training times. However, it is made clear that while building a model, the parameters passing to the model play a significant difference. The model with 3 layers and hidden layer with a considerably high number of neurons made a high accuracy model with than the models with lower number of neurons in the hidden layer. When we try to increase the number of hidden layer it also does not work because the dataset becomes too simple for the neural network to work on and actually lead to overfitting. The model with 4 layers has higher accuracy to the training dataset but when any irregularities or newer type of data is passed then the model struggles and provides a low confident prediction."
      ]
    },
    {
      "cell_type": "markdown",
      "metadata": {
        "id": "1Rq1a85C2g_x"
      },
      "source": [
        "1. Apply KNN for the Fashion MNIST dataset."
      ]
    },
    {
      "cell_type": "code",
      "execution_count": 72,
      "metadata": {
        "id": "ojOnviPgvy4Q"
      },
      "outputs": [],
      "source": [
        "import numpy as np\n",
        "from sklearn.neighbors import KNeighborsClassifier\n",
        "from tensorflow.keras.datasets import fashion_mnist\n"
      ]
    },
    {
      "cell_type": "code",
      "execution_count": 73,
      "metadata": {
        "colab": {
          "base_uri": "https://localhost:8080/"
        },
        "id": "l6dijRMB28EG",
        "outputId": "28fa5daf-5e9f-4dbe-f4df-db86d8d7ca42"
      },
      "outputs": [
        {
          "name": "stdout",
          "output_type": "stream",
          "text": [
            "Downloading data from https://storage.googleapis.com/tensorflow/tf-keras-datasets/train-labels-idx1-ubyte.gz\n",
            "29515/29515 [==============================] - 0s 0us/step\n",
            "Downloading data from https://storage.googleapis.com/tensorflow/tf-keras-datasets/train-images-idx3-ubyte.gz\n",
            "26421880/26421880 [==============================] - 0s 0us/step\n",
            "Downloading data from https://storage.googleapis.com/tensorflow/tf-keras-datasets/t10k-labels-idx1-ubyte.gz\n",
            "5148/5148 [==============================] - 0s 0us/step\n",
            "Downloading data from https://storage.googleapis.com/tensorflow/tf-keras-datasets/t10k-images-idx3-ubyte.gz\n",
            "4422102/4422102 [==============================] - 0s 0us/step\n"
          ]
        }
      ],
      "source": [
        "(x_train, y_train), (x_test, y_test) = fashion_mnist.load_data()\n"
      ]
    },
    {
      "cell_type": "code",
      "execution_count": 74,
      "metadata": {
        "id": "YuZodbKi2-01"
      },
      "outputs": [],
      "source": [
        "x_train = x_train.reshape(x_train.shape[0], -1)  # Flatten images to 2D\n",
        "x_test = x_test.reshape(x_test.shape[0], -1)\n"
      ]
    },
    {
      "cell_type": "code",
      "execution_count": 75,
      "metadata": {
        "id": "2uxYpf2A3A97"
      },
      "outputs": [],
      "source": [
        "x_train = x_train.astype('float32') / 255.0\n",
        "x_test = x_test.astype('float32') / 255.0\n"
      ]
    },
    {
      "cell_type": "code",
      "execution_count": 76,
      "metadata": {
        "colab": {
          "base_uri": "https://localhost:8080/"
        },
        "id": "2q5NZ2qf3C5S",
        "outputId": "388cea32-5ac1-4a15-b90f-44c795e24c13"
      },
      "outputs": [
        {
          "name": "stdout",
          "output_type": "stream",
          "text": [
            "Accuracy: 0.8554\n"
          ]
        }
      ],
      "source": [
        "from sklearn.metrics import accuracy_score\n",
        "# KNN using SKlearn.Neighbors\n",
        "knn = KNeighborsClassifier(n_neighbors=5)  # Adjust k as needed\n",
        "knn.fit(x_train, y_train)\n",
        "y_pred = knn.predict(x_test)\n",
        "\n",
        "# calculating the accuracy of the model using sklearn.metrics accuracy_score\n",
        "accuracy = accuracy_score(y_test, y_pred)\n",
        "print(\"Accuracy:\", accuracy)\n"
      ]
    },
    {
      "cell_type": "markdown",
      "metadata": {
        "id": "_wttEHZJ3u20"
      },
      "source": [
        "2. The accuracies obtained from MLP using tensorflow is much higher because as we discussed earlier, the KNN are not suitable models for image classification. Sure, the testing images if they are closely matching with the training dataset are predicted comfortably, but when the images given are not matching with the training set then, the model will not predict the images with confidence. Similar to our neural network approach in question-3, the neural network is overfitted to the trainig data and provides less accuracies for the model.\n",
        "\n"
      ]
    },
    {
      "cell_type": "code",
      "execution_count": null,
      "metadata": {
        "id": "RqcIssRS8P4a"
      },
      "outputs": [],
      "source": []
    }
  ],
  "metadata": {
    "colab": {
      "provenance": []
    },
    "kernelspec": {
      "display_name": "Python 3",
      "name": "python3"
    },
    "language_info": {
      "name": "python"
    }
  },
  "nbformat": 4,
  "nbformat_minor": 0
}
